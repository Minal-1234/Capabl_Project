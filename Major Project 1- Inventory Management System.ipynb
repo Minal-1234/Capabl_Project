{
 "cells": [
  {
   "cell_type": "code",
   "execution_count": 1,
   "id": "c53d6cc2",
   "metadata": {},
   "outputs": [
    {
     "name": "stdout",
     "output_type": "stream",
     "text": [
      "----------------------------------------\n",
      "----------------------------------------\n",
      "Inventory Management System\n",
      "----------------------------------------\n",
      "----------------------------------------\n"
     ]
    }
   ],
   "source": [
    "print(\"-\"*40)\n",
    "print(\"-\"*40)\n",
    "print(\"Inventory Management System\")\n",
    "print(\"-\"*40)\n",
    "print(\"-\"*40)\n"
   ]
  },
  {
   "cell_type": "markdown",
   "id": "6b7b4ea9",
   "metadata": {},
   "source": [
    "# Product Details"
   ]
  },
  {
   "cell_type": "code",
   "execution_count": 2,
   "id": "080ab809",
   "metadata": {},
   "outputs": [],
   "source": [
    "\n",
    "p_dct={123451:{'p_name':'smart phone','p_category':'electronics','p_quantity':5,'p_price':10000,'p_expiry':'N/A'},\n",
    "       123452:{'p_name':'potato chips','p_category':'edible','p_quantity':10,'p_price':10,'p_expiry':'2 months from manufacture'},\n",
    "       123453:{'p_name':'notebook','p_category':'stationary','p_quantity':20,'p_price':100,'p_expiry':'N/A'},\n",
    "       123454:{'p_name':'Tee-Shirt','p_category':'clothes','p_quantity':15,'p_price':1000,'p_expiry':'N/A'},\n",
    "       123455:{'p_name':'sandels','p_category':'footwear','p_quantity':11,'p_price':500,'p_expiry':'N/A'}}\n"
   ]
  },
  {
   "cell_type": "code",
   "execution_count": 3,
   "id": "49cda1b6",
   "metadata": {},
   "outputs": [
    {
     "data": {
      "text/plain": [
       "{123451: {'p_name': 'smart phone',\n",
       "  'p_category': 'electronics',\n",
       "  'p_quantity': 5,\n",
       "  'p_price': 10000,\n",
       "  'p_expiry': 'N/A'},\n",
       " 123452: {'p_name': 'potato chips',\n",
       "  'p_category': 'edible',\n",
       "  'p_quantity': 10,\n",
       "  'p_price': 10,\n",
       "  'p_expiry': '2 months from manufacture'},\n",
       " 123453: {'p_name': 'notebook',\n",
       "  'p_category': 'stationary',\n",
       "  'p_quantity': 20,\n",
       "  'p_price': 100,\n",
       "  'p_expiry': 'N/A'},\n",
       " 123454: {'p_name': 'Tee-Shirt',\n",
       "  'p_category': 'clothes',\n",
       "  'p_quantity': 15,\n",
       "  'p_price': 1000,\n",
       "  'p_expiry': 'N/A'},\n",
       " 123455: {'p_name': 'sandels',\n",
       "  'p_category': 'footwear',\n",
       "  'p_quantity': 11,\n",
       "  'p_price': 500,\n",
       "  'p_expiry': 'N/A'}}"
      ]
     },
     "execution_count": 3,
     "metadata": {},
     "output_type": "execute_result"
    }
   ],
   "source": [
    "p_dct"
   ]
  },
  {
   "cell_type": "code",
   "execution_count": null,
   "id": "77f4191e",
   "metadata": {},
   "outputs": [],
   "source": [
    "p_id=int(input(\"Enter the product ID: \"))\n",
    "print(\"-\"*20)\n",
    "print(p_dct[p_id])"
   ]
  },
  {
   "cell_type": "markdown",
   "id": "df0a7c35",
   "metadata": {},
   "source": [
    "# Add New Product"
   ]
  },
  {
   "cell_type": "code",
   "execution_count": null,
   "id": "8d3eb89b",
   "metadata": {},
   "outputs": [],
   "source": [
    "\n",
    "temp={}             #creating temporary dictionary\n",
    "p_id=int(input(\"Enter the product ID: \"))\n",
    "p_name=str(input(\"Enter the product name: \"))\n",
    "p_category=str(input(\"Enter the product category: \"))\n",
    "p_quantity=int(input(\"Enter the product quantity: \"))\n",
    "p_price=int(input(\"Enter the product price: \"))\n",
    "p_expiry=str(input(\"Enter the product expiry: \"))\n",
    "temp['p_name']='p_name'\n",
    "temp['p_category']='p_category'\n",
    "temp['p_quantity']='p_quantity'\n",
    "temp['p_price']='p_price'\n",
    "temp['p_expiry']='p_expiry'\n",
    "p_dct[p_id]=temp"
   ]
  },
  {
   "cell_type": "code",
   "execution_count": null,
   "id": "d154ed72",
   "metadata": {},
   "outputs": [],
   "source": [
    "p_dct"
   ]
  },
  {
   "cell_type": "markdown",
   "id": "08506426",
   "metadata": {},
   "source": [
    "# Add New Product ( Another Method)"
   ]
  },
  {
   "cell_type": "code",
   "execution_count": 4,
   "id": "68ca505e",
   "metadata": {},
   "outputs": [
    {
     "name": "stdout",
     "output_type": "stream",
     "text": [
      "Enter the product ID: 123456\n",
      "Enter the product name: steel container\n",
      "Enter the product category: utensils\n",
      "Enter the product quantity: 4\n",
      "Enter the product price: 150\n",
      "Enter the product expiry: N/A\n"
     ]
    }
   ],
   "source": [
    "\n",
    "temp={}             #creating temporary dictionary\n",
    "p_id=int(input(\"Enter the product ID: \"))\n",
    "temp['p_name']=str(input(\"Enter the product name: \"))\n",
    "temp['p_category']=str(input(\"Enter the product category: \"))\n",
    "temp['p_quantity']=int(input(\"Enter the product quantity: \"))\n",
    "temp['p_price']=int(input(\"Enter the product price: \"))\n",
    "temp['p_expiry']=str(input(\"Enter the product expiry: \"))\n",
    "p_dct[p_id]=temp"
   ]
  },
  {
   "cell_type": "markdown",
   "id": "e3c259a8",
   "metadata": {},
   "source": [
    "# Display Inventory"
   ]
  },
  {
   "cell_type": "code",
   "execution_count": 5,
   "id": "42dff63d",
   "metadata": {},
   "outputs": [
    {
     "data": {
      "text/plain": [
       "{'p_name': 'steel container',\n",
       " 'p_category': 'utensils',\n",
       " 'p_quantity': 4,\n",
       " 'p_price': 150,\n",
       " 'p_expiry': 'N/A'}"
      ]
     },
     "execution_count": 5,
     "metadata": {},
     "output_type": "execute_result"
    }
   ],
   "source": [
    "p_dct[p_id]"
   ]
  },
  {
   "cell_type": "code",
   "execution_count": 6,
   "id": "ac05b7c2",
   "metadata": {},
   "outputs": [
    {
     "name": "stdout",
     "output_type": "stream",
     "text": [
      "(123451, {'p_name': 'smart phone', 'p_category': 'electronics', 'p_quantity': 5, 'p_price': 10000, 'p_expiry': 'N/A'})\n",
      "-----------------------------------------------------------------------------------------------------------------------------\n",
      "(123452, {'p_name': 'potato chips', 'p_category': 'edible', 'p_quantity': 10, 'p_price': 10, 'p_expiry': '2 months from manufacture'})\n",
      "-----------------------------------------------------------------------------------------------------------------------------\n",
      "(123453, {'p_name': 'notebook', 'p_category': 'stationary', 'p_quantity': 20, 'p_price': 100, 'p_expiry': 'N/A'})\n",
      "-----------------------------------------------------------------------------------------------------------------------------\n",
      "(123454, {'p_name': 'Tee-Shirt', 'p_category': 'clothes', 'p_quantity': 15, 'p_price': 1000, 'p_expiry': 'N/A'})\n",
      "-----------------------------------------------------------------------------------------------------------------------------\n",
      "(123455, {'p_name': 'sandels', 'p_category': 'footwear', 'p_quantity': 11, 'p_price': 500, 'p_expiry': 'N/A'})\n",
      "-----------------------------------------------------------------------------------------------------------------------------\n",
      "(123456, {'p_name': 'steel container', 'p_category': 'utensils', 'p_quantity': 4, 'p_price': 150, 'p_expiry': 'N/A'})\n",
      "-----------------------------------------------------------------------------------------------------------------------------\n"
     ]
    }
   ],
   "source": [
    "\n",
    "for k in p_dct.items():\n",
    "    #When looping through dictionaries, the key and corresponding value can be retrieved at the same time using the items() method.\n",
    "    print(k)    \n",
    "    print('-'*125)"
   ]
  },
  {
   "cell_type": "code",
   "execution_count": 7,
   "id": "c089d2c5",
   "metadata": {},
   "outputs": [
    {
     "name": "stdout",
     "output_type": "stream",
     "text": [
      "123451\n",
      "{'p_name': 'smart phone', 'p_category': 'electronics', 'p_quantity': 5, 'p_price': 10000, 'p_expiry': 'N/A'}\n",
      "-----------------------------------------------------------------------------------------------------------------------------\n",
      "123452\n",
      "{'p_name': 'potato chips', 'p_category': 'edible', 'p_quantity': 10, 'p_price': 10, 'p_expiry': '2 months from manufacture'}\n",
      "-----------------------------------------------------------------------------------------------------------------------------\n",
      "123453\n",
      "{'p_name': 'notebook', 'p_category': 'stationary', 'p_quantity': 20, 'p_price': 100, 'p_expiry': 'N/A'}\n",
      "-----------------------------------------------------------------------------------------------------------------------------\n",
      "123454\n",
      "{'p_name': 'Tee-Shirt', 'p_category': 'clothes', 'p_quantity': 15, 'p_price': 1000, 'p_expiry': 'N/A'}\n",
      "-----------------------------------------------------------------------------------------------------------------------------\n",
      "123455\n",
      "{'p_name': 'sandels', 'p_category': 'footwear', 'p_quantity': 11, 'p_price': 500, 'p_expiry': 'N/A'}\n",
      "-----------------------------------------------------------------------------------------------------------------------------\n",
      "123456\n",
      "{'p_name': 'steel container', 'p_category': 'utensils', 'p_quantity': 4, 'p_price': 150, 'p_expiry': 'N/A'}\n",
      "-----------------------------------------------------------------------------------------------------------------------------\n"
     ]
    }
   ],
   "source": [
    "for i in p_dct:\n",
    "    print(i)\n",
    "    print(p_dct[i])\n",
    "    print('-'*125)"
   ]
  },
  {
   "cell_type": "markdown",
   "id": "1901ac2c",
   "metadata": {},
   "source": [
    "# Search For A Product"
   ]
  },
  {
   "cell_type": "markdown",
   "id": "3cc3d944",
   "metadata": {},
   "source": [
    "## Search Using Product ID"
   ]
  },
  {
   "cell_type": "code",
   "execution_count": 8,
   "id": "25a77ad7",
   "metadata": {},
   "outputs": [
    {
     "name": "stdout",
     "output_type": "stream",
     "text": [
      "Enter the product id of the product you want to search: 123455\n",
      "-----------------------------------------------------------------------------------------------------------------------------\n",
      "{'p_name': 'sandels', 'p_category': 'footwear', 'p_quantity': 11, 'p_price': 500, 'p_expiry': 'N/A'}\n",
      "-----------------------------------------------------------------------------------------------------------------------------\n"
     ]
    }
   ],
   "source": [
    "p_id= int(input(\"Enter the product id of the product you want to search: \"))\n",
    "print('-'*125)\n",
    "print(p_dct[p_id])\n",
    "print('-'*125)\n"
   ]
  },
  {
   "cell_type": "markdown",
   "id": "fbc05b92",
   "metadata": {},
   "source": [
    "## Search using Product Name"
   ]
  },
  {
   "cell_type": "code",
   "execution_count": 9,
   "id": "044669c7",
   "metadata": {},
   "outputs": [
    {
     "name": "stdout",
     "output_type": "stream",
     "text": [
      "Enter the name of the product you want to search: sandels\n",
      "-----------------------------------------------------------------------------------------------------------------------------\n",
      "123455 : {'p_name': 'sandels', 'p_category': 'footwear', 'p_quantity': 11, 'p_price': 500, 'p_expiry': 'N/A'}\n",
      "-----------------------------------------------------------------------------------------------------------------------------\n"
     ]
    }
   ],
   "source": [
    "p_name= str(input(\"Enter the name of the product you want to search: \"))\n",
    "print(\"-\"*125)\n",
    "for key in p_dct.keys():\n",
    "    if(p_dct[key]['p_name']==p_name):\n",
    "        print(key,':',p_dct[key])\n",
    "print('-'*125)\n"
   ]
  },
  {
   "cell_type": "markdown",
   "id": "7511fc5a",
   "metadata": {},
   "source": [
    "## Search Using Product Category"
   ]
  },
  {
   "cell_type": "code",
   "execution_count": 10,
   "id": "1d24c74a",
   "metadata": {},
   "outputs": [
    {
     "name": "stdout",
     "output_type": "stream",
     "text": [
      "Enter the category of the product you want to search: footwear\n",
      "-----------------------------------------------------------------------------------------------------------------------------\n",
      "123455 : {'p_name': 'sandels', 'p_category': 'footwear', 'p_quantity': 11, 'p_price': 500, 'p_expiry': 'N/A'}\n",
      "-----------------------------------------------------------------------------------------------------------------------------\n"
     ]
    }
   ],
   "source": [
    "\n",
    "p_category= str(input(\"Enter the category of the product you want to search: \"))\n",
    "print(\"-\"*125)\n",
    "for key in p_dct.keys():\n",
    "    if(p_dct[key]['p_category']==p_category):\n",
    "        print(key,':',p_dct[key])\n",
    "print('-'*125)\n"
   ]
  },
  {
   "cell_type": "markdown",
   "id": "ffc0f9a8",
   "metadata": {},
   "source": [
    "# Update Product Details"
   ]
  },
  {
   "cell_type": "code",
   "execution_count": null,
   "id": "30400704",
   "metadata": {},
   "outputs": [
    {
     "name": "stdout",
     "output_type": "stream",
     "text": [
      "Enter the product ID of the product which needs an update of product details: 123455\n",
      "--------------------------------------------------\n",
      "Do you want to update quantity of product in the stock?  yes\n",
      "--------------------------------------------------\n",
      "Enter the updated quantity of product in the stock: 12\n",
      "123455 : {'p_name': 'sandels', 'p_category': 'footwear', 'p_quantity': 12, 'p_price': 500, 'p_expiry': 'N/A'}\n",
      "--------------------------------------------------\n",
      "--------------------------------------------------\n"
     ]
    }
   ],
   "source": [
    "p_id=int(input(\"Enter the product ID of the product which needs an update of product details: \"))\n",
    "print('-'*50)\n",
    "quantity=str(input(\"Do you want to update quantity of product in the stock?  \"))\n",
    "print('-'*50)\n",
    "if quantity=='yes':\n",
    "    p_quantity=int(input(\"Enter the updated quantity of product in the stock: \"))\n",
    "    p_dct[p_id]['p_quantity']=p_quantity\n",
    "    print(p_id,':',p_dct[p_id])\n",
    "    print('-'*50)\n",
    "#price=str(input(\"Do you want to update the price per unit of the product? \"))\n",
    "    print('-'*50)\n",
    "   \n",
    "    #if quantity=='yes':\n",
    "    # p_quantity=int(input(\"Enter the updated quantity of product in the stock: \"))\n",
    "    #p_dct[p_id]['p_quantity']==p_quantity\n",
    "    #print(p_id,':',p_dct[p_id])\n",
    "    #print('-'*50)\n",
    "price=str(input(\"Do you want to update the price per unit of the product? \"))\n",
    "if price=='yes':\n",
    "    \n",
    "    p_price=int(input(\"Enter the updated quantity of product in the stock: \"))\n",
    "    p_dct[p_id]['p_price']=p_price\n",
    "    print(p_id,':',p_dct[p_id])\n",
    "print('-'*50)"
   ]
  },
  {
   "cell_type": "code",
   "execution_count": null,
   "id": "f71c4047",
   "metadata": {},
   "outputs": [],
   "source": []
  }
 ],
 "metadata": {
  "kernelspec": {
   "display_name": "Python 3 (ipykernel)",
   "language": "python",
   "name": "python3"
  },
  "language_info": {
   "codemirror_mode": {
    "name": "ipython",
    "version": 3
   },
   "file_extension": ".py",
   "mimetype": "text/x-python",
   "name": "python",
   "nbconvert_exporter": "python",
   "pygments_lexer": "ipython3",
   "version": "3.11.5"
  }
 },
 "nbformat": 4,
 "nbformat_minor": 5
}
